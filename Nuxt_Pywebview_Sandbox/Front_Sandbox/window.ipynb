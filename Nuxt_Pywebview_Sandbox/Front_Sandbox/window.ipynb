{
 "cells": [
  {
   "cell_type": "code",
   "execution_count": 1,
   "id": "9345062a-8111-461d-94f8-0567bd186d49",
   "metadata": {},
   "outputs": [],
   "source": [
    "import webview\n",
    "import pandas as pd"
   ]
  },
  {
   "cell_type": "code",
   "execution_count": 2,
   "id": "a06d20c8-f99f-4ea5-81e9-9f091cc25d04",
   "metadata": {},
   "outputs": [],
   "source": [
    "# Define a simple API to communicate with the frontend\n",
    "# class Gather_Materials:\n",
    "# NOTE: don't put objects such as dataframes in API-class, as javascript can't handle them\n",
    "df = pd.read_csv('./server/dataframes/AUDUSD30_Front.csv')\n",
    "\n",
    "class API:\n",
    "    def get_data(self):\n",
    "        return df.head().to_string()\n",
    "api = API()"
   ]
  },
  {
   "cell_type": "code",
   "execution_count": 3,
   "id": "4791378d-87d1-4199-8b2e-2b2e02ef56b4",
   "metadata": {},
   "outputs": [
    {
     "name": "stdout",
     "output_type": "stream",
     "text": [
      "                        time   AUDUSD\n",
      "0  2021-01-03 22:00:00+00:00  0.76961\n",
      "1  2021-01-03 22:30:00+00:00  0.76942\n",
      "2  2021-01-03 23:00:00+00:00  0.77069\n",
      "3  2021-01-03 23:30:00+00:00  0.77109\n",
      "4  2021-01-04 00:00:00+00:00  0.76947\n"
     ]
    }
   ],
   "source": [
    "print(api.get_data())"
   ]
  },
  {
   "cell_type": "code",
   "execution_count": 4,
   "id": "dc0d9198-8f2d-4d65-9ddb-664e3bbb9de9",
   "metadata": {},
   "outputs": [
    {
     "ename": "",
     "evalue": "",
     "output_type": "error",
     "traceback": [
      "\u001b[1;31mThe Kernel crashed while executing code in the current cell or a previous cell. \n",
      "\u001b[1;31mPlease review the code in the cell(s) to identify a possible cause of the failure. \n",
      "\u001b[1;31mClick <a href='https://aka.ms/vscodeJupyterKernelCrash'>here</a> for more info. \n",
      "\u001b[1;31mView Jupyter <a href='command:jupyter.viewOutput'>log</a> for further details."
     ]
    }
   ],
   "source": [
    "# Open Nuxt.js app in Pywebview\n",
    "webview.create_window(\"Nuxt + Pywebview\", \"http://localhost:3000\", js_api=api)\n",
    "webview.start()"
   ]
  },
  {
   "cell_type": "code",
   "execution_count": null,
   "id": "090fc8d7",
   "metadata": {},
   "outputs": [],
   "source": []
  }
 ],
 "metadata": {
  "kernelspec": {
   "display_name": "base",
   "language": "python",
   "name": "python3"
  },
  "language_info": {
   "codemirror_mode": {
    "name": "ipython",
    "version": 3
   },
   "file_extension": ".py",
   "mimetype": "text/x-python",
   "name": "python",
   "nbconvert_exporter": "python",
   "pygments_lexer": "ipython3",
   "version": "3.12.7"
  }
 },
 "nbformat": 4,
 "nbformat_minor": 5
}
